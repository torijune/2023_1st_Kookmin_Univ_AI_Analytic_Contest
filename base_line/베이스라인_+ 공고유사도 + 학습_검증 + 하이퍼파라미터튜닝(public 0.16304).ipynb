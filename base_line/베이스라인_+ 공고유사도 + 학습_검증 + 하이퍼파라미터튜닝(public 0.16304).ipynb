{
 "cells": [
  {
   "cell_type": "code",
   "execution_count": 1,
   "id": "9ae902a8-6a57-48a2-900b-f1d158789fc9",
   "metadata": {},
   "outputs": [],
   "source": [
    "def recall5(answer_df, submission_df):\n",
    "    \"\"\"\n",
    "    Calculate recall@5 for given dataframes.\n",
    "    \n",
    "    Parameters:\n",
    "    - answer_df: DataFrame containing the ground truth\n",
    "    - submission_df: DataFrame containing the predictions\n",
    "    \n",
    "    Returns:\n",
    "    - recall: Recall@5 value\n",
    "    \"\"\"\n",
    "    \n",
    "    primary_col = answer_df.columns[0]\n",
    "    secondary_col = answer_df.columns[1]\n",
    "    \n",
    "    # Check if each primary_col entry has exactly 5 secondary_col predictions\n",
    "    prediction_counts = submission_df.groupby(primary_col).size()\n",
    "    if not all(prediction_counts == 5):\n",
    "        raise ValueError(f\"Each {primary_col} should have exactly 5 {secondary_col} predictions.\")\n",
    "\n",
    "\n",
    "    # Check for NULL values in the predicted secondary_col\n",
    "    if submission_df[secondary_col].isnull().any():\n",
    "        raise ValueError(f\"Predicted {secondary_col} contains NULL values.\")\n",
    "    \n",
    "    # Check for duplicates in the predicted secondary_col for each primary_col\n",
    "    duplicated_preds = submission_df.groupby(primary_col).apply(lambda x: x[secondary_col].duplicated().any())\n",
    "    if duplicated_preds.any():\n",
    "        raise ValueError(f\"Predicted {secondary_col} contains duplicates for some {primary_col}.\")\n",
    "\n",
    "\n",
    "    # Filter the submission dataframe based on the primary_col present in the answer dataframe\n",
    "    submission_df = submission_df[submission_df[primary_col].isin(answer_df[primary_col])]\n",
    "    \n",
    "    # For each primary_col, get the top 5 predicted secondary_col values\n",
    "    top_5_preds = submission_df.groupby(primary_col).apply(lambda x: x[secondary_col].head(5).tolist()).to_dict()\n",
    "    \n",
    "    # Convert the answer_df to a dictionary for easier lookup\n",
    "    true_dict = answer_df.groupby(primary_col).apply(lambda x: x[secondary_col].tolist()).to_dict()\n",
    "    \n",
    "    \n",
    "    individual_recalls = []\n",
    "    for key, val in true_dict.items():\n",
    "        if key in top_5_preds:\n",
    "            correct_matches = len(set(true_dict[key]) & set(top_5_preds[key]))\n",
    "            individual_recall = correct_matches / min(len(val), 5) # 공정한 평가를 가능하게 위하여 분모(k)를 'min(len(val), 5)' 로 설정함 \n",
    "            individual_recalls.append(individual_recall)\n",
    "\n",
    "\n",
    "    recall = np.mean(individual_recalls)\n",
    "    return recall"
   ]
  },
  {
   "cell_type": "code",
   "execution_count": 2,
   "id": "c9a005fc-4c85-440d-a474-c44c87f1e5dc",
   "metadata": {},
   "outputs": [],
   "source": [
    "import numpy as np\n",
    "import pandas as pd\n",
    "\n",
    "from tqdm.auto import tqdm\n",
    "from collections import defaultdict\n",
    "from sklearn.decomposition import TruncatedSVD, NMF, SparsePCA\n",
    "from sklearn.metrics.pairwise import cosine_similarity"
   ]
  },
  {
   "cell_type": "code",
   "execution_count": 3,
   "id": "93a162cb-5d78-45ed-8972-c83b816b4620",
   "metadata": {},
   "outputs": [],
   "source": [
    "apply_train = pd.read_csv('./data/apply_train.csv')"
   ]
  },
  {
   "cell_type": "code",
   "execution_count": 4,
   "id": "f3772af7-ca3f-4acb-8c0c-b30ee24199a7",
   "metadata": {},
   "outputs": [],
   "source": [
    "#학습, 검증 분리\n",
    "train, val = [], []\n",
    "apply_train_groupby = apply_train.groupby('resume_seq')['recruitment_seq'].apply(list)\n",
    "for uid, iids in zip(apply_train_groupby.index.tolist(), apply_train_groupby.values.tolist()):\n",
    "    for iid in iids[:-1]:\n",
    "        train.append([uid,iid])\n",
    "    val.append([uid, iids[-1]])"
   ]
  },
  {
   "cell_type": "code",
   "execution_count": 5,
   "id": "d2c86a16-f200-4056-8f01-77dcf51e4bf4",
   "metadata": {},
   "outputs": [],
   "source": [
    "train = pd.DataFrame(train, columns=['resume_seq', 'recruitment_seq'])\n",
    "val = pd.DataFrame(val, columns=['resume_seq', 'recruitment_seq'])\n",
    "pred = apply_train.copy()"
   ]
  },
  {
   "cell_type": "code",
   "execution_count": 6,
   "id": "69e97867-c089-4d24-b71e-9bd448b9d1ee",
   "metadata": {},
   "outputs": [],
   "source": [
    "train_user_item_matrix = train.groupby(['resume_seq', 'recruitment_seq']).size().unstack(fill_value=0)\n",
    "pred_user_item_matrix = pred.groupby(['resume_seq', 'recruitment_seq']).size().unstack(fill_value=0)"
   ]
  },
  {
   "cell_type": "code",
   "execution_count": 7,
   "id": "98edbeea-afdc-4880-9a67-62735ba2d78a",
   "metadata": {},
   "outputs": [],
   "source": [
    "train_user_similarity = cosine_similarity(train_user_item_matrix)\n",
    "train_item_similarity = cosine_similarity(train_user_item_matrix.T)\n",
    "\n",
    "pred_user_similarity = cosine_similarity(pred_user_item_matrix)\n",
    "pred_item_similarity = cosine_similarity(pred_user_item_matrix.T)"
   ]
  },
  {
   "cell_type": "code",
   "execution_count": 8,
   "id": "d253cf1e-7066-4ac2-b5df-5537750c679a",
   "metadata": {},
   "outputs": [],
   "source": [
    "train_user_predicted_scores = train_user_similarity.dot(train_user_item_matrix)\n",
    "train_item_predicted_scores = train_user_item_matrix.dot(train_item_similarity)\n",
    "\n",
    "pred_user_predicted_scores = pred_user_similarity.dot(pred_user_item_matrix)\n",
    "pred_item_predicted_scores = pred_user_item_matrix.dot(pred_item_similarity)"
   ]
  },
  {
   "cell_type": "code",
   "execution_count": 74,
   "id": "9a58d4b6-c99e-4a48-8c92-36411788ebb1",
   "metadata": {},
   "outputs": [
    {
     "data": {
      "application/vnd.jupyter.widget-view+json": {
       "model_id": "04c21661a8154e9ab05918fff66a5c10",
       "version_major": 2,
       "version_minor": 0
      },
      "text/plain": [
       "0it [00:00, ?it/s]"
      ]
     },
     "metadata": {},
     "output_type": "display_data"
    }
   ],
   "source": [
    "alpha = 0.98\n",
    "train_recommendations = []\n",
    "for idx, user in tqdm(enumerate(train_user_item_matrix.index)):\n",
    "    applied_jobs = set(train_user_item_matrix.loc[user][train_user_item_matrix.loc[user] == 1].index)\n",
    "    \n",
    "    # 해당 사용자의 추천 점수 (높은 점수부터 정렬)\n",
    "    sorted_job_indices = (train_item_predicted_scores.loc[user].values * alpha + train_user_predicted_scores[idx]).argsort()[::-1]\n",
    "    recommended_jobs = [job for job in train_user_item_matrix.columns[sorted_job_indices] if job not in applied_jobs][:5]\n",
    "    \n",
    "    for job in recommended_jobs:\n",
    "        train_recommendations.append([user, job])"
   ]
  },
  {
   "cell_type": "code",
   "execution_count": 72,
   "id": "bd0bee78-4e44-46bf-b777-bb7469227e75",
   "metadata": {},
   "outputs": [],
   "source": [
    "val_prediction = pd.DataFrame(train_recommendations, columns=['resume_seq', 'recruitment_seq'])"
   ]
  },
  {
   "cell_type": "code",
   "execution_count": 73,
   "id": "a151a71e-c3f9-4d6e-9308-307b8a283a04",
   "metadata": {},
   "outputs": [
    {
     "data": {
      "text/plain": [
       "0.12909691110587126"
      ]
     },
     "execution_count": 73,
     "metadata": {},
     "output_type": "execute_result"
    }
   ],
   "source": [
    "recall5(val,val_prediction)"
   ]
  },
  {
   "cell_type": "code",
   "execution_count": 70,
   "id": "b39b774e-dded-4590-8b1e-e537beedb1ae",
   "metadata": {},
   "outputs": [
    {
     "data": {
      "text/plain": [
       "0.12909691110587126"
      ]
     },
     "execution_count": 70,
     "metadata": {},
     "output_type": "execute_result"
    }
   ],
   "source": [
    "recall5(val,val_prediction)"
   ]
  },
  {
   "cell_type": "code",
   "execution_count": null,
   "id": "2f8f4b46-4e4d-4122-8414-8db10cf0de78",
   "metadata": {},
   "outputs": [],
   "source": []
  },
  {
   "cell_type": "code",
   "execution_count": null,
   "id": "8d08a014-f430-4fce-8d79-74f68ff96aed",
   "metadata": {},
   "outputs": [],
   "source": []
  },
  {
   "cell_type": "code",
   "execution_count": null,
   "id": "683d9837-27cf-4f19-972f-61223929ce69",
   "metadata": {},
   "outputs": [],
   "source": [
    "alpha = 0.98\n",
    "pred_recommendations = []\n",
    "for idx, user in tqdm(enumerate(pred_user_item_matrix.index)):\n",
    "    applied_jobs = set(pred_user_item_matrix.loc[user][pred_user_item_matrix.loc[user] == 1].index)\n",
    "    \n",
    "    sorted_job_indices = (pred_item_predicted_scores.loc[user].values * alpha + pred_user_predicted_scores[idx]).argsort()[::-1]\n",
    "    recommended_jobs = [job for job in pred_user_item_matrix.columns[sorted_job_indices] if job not in applied_jobs][:5]\n",
    "    \n",
    "    for job in recommended_jobs:\n",
    "        pred_recommendations.append([user, job])"
   ]
  },
  {
   "cell_type": "code",
   "execution_count": 10,
   "id": "19c2464a-3e70-4c0d-8d94-986a9b4cd53f",
   "metadata": {},
   "outputs": [],
   "source": [
    "top_recommendations = pd.DataFrame(pred_recommendations, columns=['resume_seq', 'recruitment_seq'])\n",
    "top_recommendations.to_csv('./baseline_add_item_0.98.csv', index=False)"
   ]
  },
  {
   "cell_type": "code",
   "execution_count": null,
   "id": "be04d46b-9b8f-43f4-856c-82e386d49992",
   "metadata": {},
   "outputs": [],
   "source": []
  },
  {
   "cell_type": "code",
   "execution_count": null,
   "id": "c5ff34a1-b231-45f4-9a06-40c3c842257f",
   "metadata": {},
   "outputs": [],
   "source": []
  }
 ],
 "metadata": {
  "kernelspec": {
   "display_name": "Python 3 (ipykernel)",
   "language": "python",
   "name": "python3"
  },
  "language_info": {
   "codemirror_mode": {
    "name": "ipython",
    "version": 3
   },
   "file_extension": ".py",
   "mimetype": "text/x-python",
   "name": "python",
   "nbconvert_exporter": "python",
   "pygments_lexer": "ipython3",
   "version": "3.9.18"
  }
 },
 "nbformat": 4,
 "nbformat_minor": 5
}
